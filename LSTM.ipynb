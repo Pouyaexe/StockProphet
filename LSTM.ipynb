{
 "cells": [
  {
   "cell_type": "code",
<<<<<<< HEAD
   "execution_count": 2,
   "metadata": {},
   "outputs": [
    {
     "name": "stdout",
     "output_type": "stream",
     "text": [
      "[*********************100%***********************]  1 of 1 completed\n"
     ]
    }
   ],
=======
   "execution_count": null,
   "metadata": {},
   "outputs": [],
>>>>>>> 53c5d68 (	modified:   LSTM.ipynb)
   "source": [
    "import yfinance as yf\n",
    "import pandas as pd\n",
    "\n",
    "# Collect stock price data from Yahoo Finance\n",
    "stock_data = yf.download('AAPL', start='2015-01-01', end='2023-04-17')\n",
    "\n",
    "# Clean the data\n",
    "stock_data = stock_data.dropna()\n",
    "\n",
    "# Engineer new features\n",
    "stock_data['SMA_20'] = stock_data['Close'].rolling(window=20).mean()\n",
    "stock_data['SMA_50'] = stock_data['Close'].rolling(window=50).mean()\n",
    "\n",
    "# Normalize the data\n",
    "stock_data_norm = (stock_data - stock_data.mean()) / stock_data.std()\n",
    "\n",
    "# Split the data into training and testing sets\n",
    "train_data = stock_data_norm[:'2019']\n",
    "test_data = stock_data_norm['2022':]"
   ]
  },
  {
   "cell_type": "code",
   "execution_count": null,
   "metadata": {},
   "outputs": [],
   "source": [
    "import torch "
   ]
  },
  {
   "cell_type": "code",
   "execution_count": null,
   "metadata": {},
   "outputs": [],
   "source": []
  }
 ],
 "metadata": {
  "kernelspec": {
   "display_name": "testpy",
   "language": "python",
   "name": "python3"
  },
  "language_info": {
   "codemirror_mode": {
    "name": "ipython",
    "version": 3
   },
   "file_extension": ".py",
   "mimetype": "text/x-python",
   "name": "python",
   "nbconvert_exporter": "python",
   "pygments_lexer": "ipython3",
   "version": "3.10.8"
  },
  "orig_nbformat": 4
 },
 "nbformat": 4,
 "nbformat_minor": 2
}

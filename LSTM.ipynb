{
 "cells": [
  {
   "cell_type": "code",
   "execution_count": 1,
   "metadata": {},
   "outputs": [
    {
     "ename": "ModuleNotFoundError",
     "evalue": "No module named 'yfinance'",
     "output_type": "error",
     "traceback": [
      "\u001b[0;31m---------------------------------------------------------------------------\u001b[0m",
      "\u001b[0;31mModuleNotFoundError\u001b[0m                       Traceback (most recent call last)",
      "Cell \u001b[0;32mIn[1], line 1\u001b[0m\n\u001b[0;32m----> 1\u001b[0m \u001b[39mimport\u001b[39;00m \u001b[39myfinance\u001b[39;00m \u001b[39mas\u001b[39;00m \u001b[39myf\u001b[39;00m\n\u001b[1;32m      2\u001b[0m \u001b[39mimport\u001b[39;00m \u001b[39mpandas\u001b[39;00m \u001b[39mas\u001b[39;00m \u001b[39mpd\u001b[39;00m\n\u001b[1;32m      4\u001b[0m \u001b[39m# Collect stock price data from Yahoo Finance\u001b[39;00m\n",
      "\u001b[0;31mModuleNotFoundError\u001b[0m: No module named 'yfinance'"
     ]
    }
   ],
   "source": [
    "import yfinance as yf\n",
    "import pandas as pd\n",
    "\n",
    "# Collect stock price data from Yahoo Finance\n",
    "stock_data = yf.download('AAPL', start='2015-01-01', end='2023-04-17')\n",
    "\n",
    "# Clean the data\n",
    "stock_data = stock_data.dropna()\n",
    "\n",
    "# Engineer new features\n",
    "stock_data['SMA_20'] = stock_data['Close'].rolling(window=20).mean()\n",
    "stock_data['SMA_50'] = stock_data['Close'].rolling(window=50).mean()\n",
    "\n",
    "# Normalize the data\n",
    "stock_data_norm = (stock_data - stock_data.mean()) / stock_data.std()\n",
    "\n",
    "# Split the data into training and testing sets\n",
    "train_data = stock_data_norm[:'2019']\n",
    "test_data = stock_data_norm['2020':]"
   ]
  }
 ],
 "metadata": {
  "kernelspec": {
   "display_name": "testpy",
   "language": "python",
   "name": "python3"
  },
  "language_info": {
   "codemirror_mode": {
    "name": "ipython",
    "version": 3
   },
   "file_extension": ".py",
   "mimetype": "text/x-python",
   "name": "python",
   "nbconvert_exporter": "python",
   "pygments_lexer": "ipython3",
   "version": "3.10.8"
  },
  "orig_nbformat": 4
 },
 "nbformat": 4,
 "nbformat_minor": 2
}

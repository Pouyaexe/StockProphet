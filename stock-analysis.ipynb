{
 "cells": [
  {
   "cell_type": "code",
   "execution_count": 1,
   "metadata": {},
   "outputs": [
    {
     "name": "stdout",
     "output_type": "stream",
     "text": [
      "[*********************100%***********************]  1 of 1 completed\n",
      "                Open      High       Low     Close  Adj Close     Volume\n",
      "Date                                                                    \n",
      "2010-01-04  7.622500  7.660714  7.585000  7.643214   6.505280  493729600\n",
      "2010-01-05  7.664286  7.699643  7.616071  7.656429   6.516529  601904800\n",
      "2010-01-06  7.656429  7.686786  7.526786  7.534643   6.412872  552160000\n",
      "2010-01-07  7.562500  7.571429  7.466071  7.520714   6.401017  477131200\n",
      "2010-01-08  7.510714  7.571429  7.466429  7.570714   6.443574  447610800\n"
     ]
    }
   ],
   "source": [
    "import yfinance as yf\n",
    "\n",
    "# Download historical data for Apple (AAPL) from Yahoo Finance\n",
    "data = yf.download(\"AAPL\", start=\"2010-01-01\", end=\"2023-03-26\")\n",
    "\n",
    "# Print the first 5 rows of the data\n",
    "print(data.head())\n"
   ]
  },
  {
   "cell_type": "code",
   "execution_count": null,
   "metadata": {},
   "outputs": [],
   "source": []
  }
 ],
 "metadata": {
  "kernelspec": {
   "display_name": "testpy",
   "language": "python",
   "name": "python3"
  },
  "language_info": {
   "codemirror_mode": {
    "name": "ipython",
    "version": 3
   },
   "file_extension": ".py",
   "mimetype": "text/x-python",
   "name": "python",
   "nbconvert_exporter": "python",
   "pygments_lexer": "ipython3",
   "version": "3.10.8"
  },
  "orig_nbformat": 4
 },
 "nbformat": 4,
 "nbformat_minor": 2
}

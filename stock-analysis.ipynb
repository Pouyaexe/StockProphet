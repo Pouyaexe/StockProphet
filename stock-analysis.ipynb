{
 "cells": [
  {
   "cell_type": "code",
   "execution_count": 1,
   "metadata": {},
   "outputs": [
    {
     "name": "stdout",
     "output_type": "stream",
     "text": [
      "[*********************100%***********************]  1 of 1 completed\n",
      "                Open      High       Low     Close  Adj Close     Volume\n",
      "Date                                                                    \n",
      "2010-01-04  7.622500  7.660714  7.585000  7.643214   6.505280  493729600\n",
      "2010-01-05  7.664286  7.699643  7.616071  7.656429   6.516529  601904800\n",
      "2010-01-06  7.656429  7.686786  7.526786  7.534643   6.412872  552160000\n",
      "2010-01-07  7.562500  7.571429  7.466071  7.520714   6.401017  477131200\n",
      "2010-01-08  7.510714  7.571429  7.466429  7.570714   6.443574  447610800\n"
     ]
    }
   ],
   "source": [
    "import yfinance as yf\n",
    "\n",
    "# Download historical data for Apple (AAPL) from Yahoo Finance\n",
    "data = yf.download(\"AAPL\", start=\"2010-01-01\", end=\"2023-03-26\")\n",
    "\n",
    "# Print the first 5 rows of the data\n",
    "print(data.head())\n"
   ]
  },
  {
   "cell_type": "code",
   "execution_count": 2,
   "metadata": {},
   "outputs": [
    {
     "name": "stdout",
     "output_type": "stream",
     "text": [
      "[*********************100%***********************]  1 of 1 completed\n",
      "                  Open        High         Low       Close   Adj Close  \\\n",
      "Date                                                                     \n",
      "2023-02-10  149.460007  151.339996  149.220001  151.009995  151.009995   \n",
      "2023-02-13  150.949997  154.259995  150.919998  153.850006  153.850006   \n",
      "2023-02-14  152.119995  153.770004  150.860001  153.199997  153.199997   \n",
      "2023-02-15  153.110001  155.500000  152.880005  155.330002  155.330002   \n",
      "2023-02-16  153.509995  156.330002  153.350006  153.710007  153.710007   \n",
      "\n",
      "              Volume  \n",
      "Date                  \n",
      "2023-02-10  57450700  \n",
      "2023-02-13  62199000  \n",
      "2023-02-14  61707600  \n",
      "2023-02-15  65573800  \n",
      "2023-02-16  68167900  \n"
     ]
    }
   ],
   "source": [
    "# Now let's get the most recent months, which is the last 30 days of data today is 3/262023\n",
    "data = yf.download(\"AAPL\",  period=\"30d\")\n",
    "\n",
    "print(data.head())"
   ]
  }
 ],
 "metadata": {
  "kernelspec": {
   "display_name": "testpy",
   "language": "python",
   "name": "python3"
  },
  "language_info": {
   "codemirror_mode": {
    "name": "ipython",
    "version": 3
   },
   "file_extension": ".py",
   "mimetype": "text/x-python",
   "name": "python",
   "nbconvert_exporter": "python",
   "pygments_lexer": "ipython3",
   "version": "3.10.8"
  },
  "orig_nbformat": 4
 },
 "nbformat": 4,
 "nbformat_minor": 2
}
